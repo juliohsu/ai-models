{
 "cells": [
  {
   "cell_type": "code",
   "execution_count": 1,
   "metadata": {},
   "outputs": [],
   "source": [
    "import torch\n",
    "import torch.nn as nn\n",
    "import torch.optim as optim\n",
    "import matplotlib.pyplot as plt\n",
    "\n",
    "from torchvision import datasets, transforms\n",
    "from torch.utils.data import DataLoader"
   ]
  },
  {
   "cell_type": "markdown",
   "metadata": {},
   "source": [
    "# Create random dataset"
   ]
  },
  {
   "cell_type": "code",
   "execution_count": 2,
   "metadata": {},
   "outputs": [],
   "source": [
    "# 1 - list layers to transform dataset\n",
    "transform = transforms.Compose([\n",
    "    transforms.ToTensor(), # transform uint8 to tensor\n",
    "    transforms.Normalize(0.5, 0.5) # normalize the pixels\n",
    "])"
   ]
  },
  {
   "cell_type": "code",
   "execution_count": 3,
   "metadata": {},
   "outputs": [],
   "source": [
    "# 2 - download the mnist dataset\n",
    "train_dataset = datasets.MNIST(root=\"./data\", train=True, transform=transform, download=True) # for training\n",
    "val_dataset = datasets.MNIST(root=\"./data\", train=False, transform=transform, download=True) # for validation"
   ]
  },
  {
   "cell_type": "code",
   "execution_count": 4,
   "metadata": {},
   "outputs": [],
   "source": [
    "# 3 - load dataset into packages\n",
    "train_loader = DataLoader(train_dataset, batch_size=64, shuffle=True) # package the dataset into 64 packages and shuffle it\n",
    "val_loader = DataLoader(val_dataset, batch_size=64, shuffle=False) # the same with train_loader, without shuffle"
   ]
  },
  {
   "cell_type": "markdown",
   "metadata": {},
   "source": [
    "# Create model and its hyperparameters"
   ]
  },
  {
   "cell_type": "code",
   "execution_count": 5,
   "metadata": {},
   "outputs": [],
   "source": [
    "# 1 - cnn model class\n",
    "class CNNModel(nn.Module):\n",
    "    def __init__(self): # model layers structure\n",
    "        super(CNNModel, self).__init__()\n",
    "        self.conv1 = nn.Conv2d(1, 16, kernel_size=3, stride=1, padding=1) # conv1 mask\n",
    "        self.conv2 = nn.Conv2d(16, 32, kernel_size=3, stride=1, padding=1) # conv2 mask\n",
    "        self.pool = nn.MaxPool2d(kernel_size=2, stride=2) # pooling mask\n",
    "        self.conv3 = nn.Conv2d(32, 64, kernel_size=3, stride=1, padding=1) # conv3 mask\n",
    "        self.conv4 = nn.Conv2d(64, 64, kernel_size=3, stride=1, padding=1) # conv4 mask\n",
    "        self.pool2 = nn.MaxPool2d(kernel_size=2, stride=2) # pooling mask\n",
    "        self.fc1 = nn.Linear(64 * 7 * 7, 128) # fully linear layer\n",
    "        self.fc2 = nn.Linear(128, 10) # fully linear layer\n",
    "        self.relu = nn.ReLU() # activation layer\n",
    "    def forward(self, x): # model data flow controls\n",
    "        x = self.relu(self.conv1(x))\n",
    "        x = self.relu(self.conv2(x))\n",
    "        x = self.pool(x)\n",
    "        x = self.relu(self.conv3(x))\n",
    "        x = self.relu(self.conv4(x))\n",
    "        x = self.pool2(x)\n",
    "        x = x.view(-1, 64 * 7 * 7) # reshape the data into flatten 1d\n",
    "        x = self.relu(self.fc1(x))\n",
    "        x = self.fc2(x)\n",
    "        return x"
   ]
  },
  {
   "cell_type": "code",
   "execution_count": 6,
   "metadata": {},
   "outputs": [],
   "source": [
    "# 2 - instantiate the model, loss and optimizer\n",
    "model = CNNModel()\n",
    "criterion = nn.CrossEntropyLoss()\n",
    "optimizer = optim.Adam(model.parameters(), lr=0.001)"
   ]
  },
  {
   "cell_type": "markdown",
   "metadata": {},
   "source": [
    "# Train and Valid"
   ]
  },
  {
   "cell_type": "code",
   "execution_count": 7,
   "metadata": {},
   "outputs": [
    {
     "name": "stdout",
     "output_type": "stream",
     "text": [
      "epoch 0, loss: 160.0640359185636\n",
      "epoch 1, loss: 40.05339048654423\n",
      "epoch 2, loss: 28.077032206609147\n",
      "epoch 3, loss: 21.980355236231844\n",
      "epoch 4, loss: 16.341470628576644\n"
     ]
    }
   ],
   "source": [
    "# 1 - train the model\n",
    "device = torch.device(\"cuda\" if torch.cuda.is_available() else \"cpu\")\n",
    "model = model.to(device) # if gpu is available move model to it\n",
    "epochs = 5\n",
    "for epoch in range(epochs):\n",
    "    model.train() # enter the model into training mode\n",
    "    running_loss = 0.0\n",
    "    for images, labels in train_loader: # enter the train loader\n",
    "        images, labels = images.to(device), labels.to(device) # if gpu is available move images and labels to it\n",
    "        preds = model(images) # model predictions\n",
    "        loss = criterion(preds, labels) # calculate the error\n",
    "        optimizer.zero_grad() # cleaning the previous gradient\n",
    "        loss.backward() # jump to the backward\n",
    "        optimizer.step() # and improve the model with backward\n",
    "        running_loss += loss.item() # register the losses\n",
    "    print(f\"epoch {epoch}, loss: {running_loss}\") # print out each epoch loss"
   ]
  },
  {
   "cell_type": "code",
   "execution_count": 8,
   "metadata": {},
   "outputs": [
    {
     "name": "stdout",
     "output_type": "stream",
     "text": [
      "for the total 10000, we got 9921 correct answer\n"
     ]
    }
   ],
   "source": [
    "# 2 - valid the model\n",
    "model.eval() # enter the model into validation mode\n",
    "correct = 0\n",
    "total = 0\n",
    "with torch.no_grad():\n",
    "    for images, labels in val_loader:\n",
    "        images, labels = images.to(device), labels.to(device) # again move the val_dataset into gpu\n",
    "        preds = model(images) # get model predictions\n",
    "        _, predicts = torch.max(preds, 1) # extract only the predictions essential\n",
    "        correct += (predicts == labels).sum().item() # and sum the correct answer\n",
    "        total += labels.size(0) # sum up total images quantity\n",
    "    print(f\"for the total {total}, we got {correct} correct answer\")"
   ]
  },
  {
   "cell_type": "code",
   "execution_count": 9,
   "metadata": {},
   "outputs": [
    {
     "data": {
      "image/png": "[encoded data removed]",
      "text/plain": [
       "<Figure size 1200x400 with 6 Axes>"
      ]
     },
     "metadata": {},
     "output_type": "display_data"
    }
   ],
   "source": [
    "# 3 - visualize the validation predictions\n",
    "examples = iter(val_loader) # iterate the validation loader\n",
    "images, labels = next(examples) # getting images and labels by the iter\n",
    "images, labels = images.to(device), labels.to(device) # moving images and labels to gpu\n",
    "with torch.no_grad(): # disable gradient\n",
    "    preds = model(images) # getting model predictions\n",
    "    w, preds_label = torch.max(preds, 1) # getting model predictions labels\n",
    "    #print(nn.functional.softmax(preds, dim=0))\n",
    "fig, axes = plt.subplots(1, 6, figsize=(12, 4)) # 1 row 6 columns\n",
    "for i in range(6):\n",
    "    axes[i].imshow(images[i].cpu().squeeze(), cmap=\"gray\") # convert image to gray scale\n",
    "    axes[i].set_title(f\"Pred: {preds_label[i].item()}\") # title each image\n",
    "    axes[i].axis(\"off\") # hide axis ticks and labels to make image more cleaner\n",
    "plt.show()"
   ]
  }
 ],
 "metadata": {
  "kernelspec": {
   "display_name": "base",
   "language": "python",
   "name": "python3"
  },
  "language_info": {
   "codemirror_mode": {
    "name": "ipython",
    "version": 3
   },
   "file_extension": ".py",
   "mimetype": "text/x-python",
   "name": "python",
   "nbconvert_exporter": "python",
   "pygments_lexer": "ipython3",
   "version": "3.12.7"
  }
 },
 "nbformat": 4,
 "nbformat_minor": 2
}
